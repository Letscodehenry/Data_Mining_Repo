{
 "cells": [
  {
   "cell_type": "code",
   "execution_count": 1,
   "id": "d5d5c3ea-9004-42b6-a479-2109881432d6",
   "metadata": {},
   "outputs": [],
   "source": [
    "import numpy as np\n",
    "import pandas as pd\n",
    "import matplotlib.pyplot as plt\n",
    "import seaborn as sns\n",
    "from scipy.stats import f_oneway"
   ]
  },
  {
   "cell_type": "markdown",
   "id": "bd883602-3f27-447e-9c1d-70428ee583b0",
   "metadata": {},
   "source": [
    "<h1>Data Analytics Project</h1>\n",
    "<h2>United Kingdon Road Accident Data Analytics</h2>\n",
    "<h2>Inclusive Years: 2019 - 2022</h2>\n",
    "<h1>Importing Libraries</h1>"
   ]
  },
  {
   "cell_type": "code",
   "execution_count": 2,
   "id": "77b265c1-733b-4686-b779-a2e0af2142c6",
   "metadata": {},
   "outputs": [],
   "source": [
    "accident = pd.read_csv(\"dataset\\\\accident_data.csv\")"
   ]
  },
  {
   "cell_type": "code",
   "execution_count": 3,
   "id": "1168cad6-9ec1-45fc-a1c3-65fc34ab9ba7",
   "metadata": {},
   "outputs": [
    {
     "data": {
      "text/html": [
       "<div>\n",
       "<style scoped>\n",
       "    .dataframe tbody tr th:only-of-type {\n",
       "        vertical-align: middle;\n",
       "    }\n",
       "\n",
       "    .dataframe tbody tr th {\n",
       "        vertical-align: top;\n",
       "    }\n",
       "\n",
       "    .dataframe thead th {\n",
       "        text-align: right;\n",
       "    }\n",
       "</style>\n",
       "<table border=\"1\" class=\"dataframe\">\n",
       "  <thead>\n",
       "    <tr style=\"text-align: right;\">\n",
       "      <th></th>\n",
       "      <th>Index</th>\n",
       "      <th>Accident_Severity</th>\n",
       "      <th>Accident Date</th>\n",
       "      <th>Latitude</th>\n",
       "      <th>Light_Conditions</th>\n",
       "      <th>District Area</th>\n",
       "      <th>Longitude</th>\n",
       "      <th>Number_of_Casualties</th>\n",
       "      <th>Number_of_Vehicles</th>\n",
       "      <th>Road_Surface_Conditions</th>\n",
       "      <th>Road_Type</th>\n",
       "      <th>Urban_or_Rural_Area</th>\n",
       "      <th>Weather_Conditions</th>\n",
       "      <th>Vehicle_Type</th>\n",
       "    </tr>\n",
       "  </thead>\n",
       "  <tbody>\n",
       "    <tr>\n",
       "      <th>0</th>\n",
       "      <td>200701BS64157</td>\n",
       "      <td>Serious</td>\n",
       "      <td>05/06/2019</td>\n",
       "      <td>51.506187</td>\n",
       "      <td>Darkness - lights lit</td>\n",
       "      <td>Kensington and Chelsea</td>\n",
       "      <td>-0.209082</td>\n",
       "      <td>1</td>\n",
       "      <td>2</td>\n",
       "      <td>Dry</td>\n",
       "      <td>Single carriageway</td>\n",
       "      <td>Urban</td>\n",
       "      <td>Fine no high winds</td>\n",
       "      <td>Car</td>\n",
       "    </tr>\n",
       "    <tr>\n",
       "      <th>1</th>\n",
       "      <td>200701BS65737</td>\n",
       "      <td>Serious</td>\n",
       "      <td>02/07/2019</td>\n",
       "      <td>51.495029</td>\n",
       "      <td>Daylight</td>\n",
       "      <td>Kensington and Chelsea</td>\n",
       "      <td>-0.173647</td>\n",
       "      <td>1</td>\n",
       "      <td>2</td>\n",
       "      <td>Wet or damp</td>\n",
       "      <td>Single carriageway</td>\n",
       "      <td>Urban</td>\n",
       "      <td>Raining no high winds</td>\n",
       "      <td>Car</td>\n",
       "    </tr>\n",
       "    <tr>\n",
       "      <th>2</th>\n",
       "      <td>200701BS66127</td>\n",
       "      <td>Serious</td>\n",
       "      <td>26/08/2019</td>\n",
       "      <td>51.517715</td>\n",
       "      <td>Darkness - lighting unknown</td>\n",
       "      <td>Kensington and Chelsea</td>\n",
       "      <td>-0.210215</td>\n",
       "      <td>1</td>\n",
       "      <td>3</td>\n",
       "      <td>Dry</td>\n",
       "      <td>NaN</td>\n",
       "      <td>Urban</td>\n",
       "      <td>NaN</td>\n",
       "      <td>Taxi/Private hire car</td>\n",
       "    </tr>\n",
       "    <tr>\n",
       "      <th>3</th>\n",
       "      <td>200701BS66128</td>\n",
       "      <td>Serious</td>\n",
       "      <td>16/08/2019</td>\n",
       "      <td>51.495478</td>\n",
       "      <td>Daylight</td>\n",
       "      <td>Kensington and Chelsea</td>\n",
       "      <td>-0.202731</td>\n",
       "      <td>1</td>\n",
       "      <td>4</td>\n",
       "      <td>Dry</td>\n",
       "      <td>Single carriageway</td>\n",
       "      <td>Urban</td>\n",
       "      <td>Fine no high winds</td>\n",
       "      <td>Bus or coach (17 or more pass seats)</td>\n",
       "    </tr>\n",
       "    <tr>\n",
       "      <th>4</th>\n",
       "      <td>200701BS66837</td>\n",
       "      <td>Slight</td>\n",
       "      <td>03/09/2019</td>\n",
       "      <td>51.488576</td>\n",
       "      <td>Darkness - lights lit</td>\n",
       "      <td>Kensington and Chelsea</td>\n",
       "      <td>-0.192487</td>\n",
       "      <td>1</td>\n",
       "      <td>2</td>\n",
       "      <td>Dry</td>\n",
       "      <td>NaN</td>\n",
       "      <td>Urban</td>\n",
       "      <td>NaN</td>\n",
       "      <td>Other vehicle</td>\n",
       "    </tr>\n",
       "    <tr>\n",
       "      <th>...</th>\n",
       "      <td>...</td>\n",
       "      <td>...</td>\n",
       "      <td>...</td>\n",
       "      <td>...</td>\n",
       "      <td>...</td>\n",
       "      <td>...</td>\n",
       "      <td>...</td>\n",
       "      <td>...</td>\n",
       "      <td>...</td>\n",
       "      <td>...</td>\n",
       "      <td>...</td>\n",
       "      <td>...</td>\n",
       "      <td>...</td>\n",
       "      <td>...</td>\n",
       "    </tr>\n",
       "    <tr>\n",
       "      <th>660674</th>\n",
       "      <td>201091NM01760</td>\n",
       "      <td>Slight</td>\n",
       "      <td>18/02/2022</td>\n",
       "      <td>57.374005</td>\n",
       "      <td>Daylight</td>\n",
       "      <td>Highland</td>\n",
       "      <td>-3.467828</td>\n",
       "      <td>2</td>\n",
       "      <td>1</td>\n",
       "      <td>Dry</td>\n",
       "      <td>Single carriageway</td>\n",
       "      <td>Rural</td>\n",
       "      <td>Fine no high winds</td>\n",
       "      <td>Car</td>\n",
       "    </tr>\n",
       "    <tr>\n",
       "      <th>660675</th>\n",
       "      <td>201091NM01881</td>\n",
       "      <td>Slight</td>\n",
       "      <td>21/02/2022</td>\n",
       "      <td>57.232273</td>\n",
       "      <td>Darkness - no lighting</td>\n",
       "      <td>Highland</td>\n",
       "      <td>-3.809281</td>\n",
       "      <td>1</td>\n",
       "      <td>1</td>\n",
       "      <td>Frost or ice</td>\n",
       "      <td>Single carriageway</td>\n",
       "      <td>Rural</td>\n",
       "      <td>Fine no high winds</td>\n",
       "      <td>Car</td>\n",
       "    </tr>\n",
       "    <tr>\n",
       "      <th>660676</th>\n",
       "      <td>201091NM01935</td>\n",
       "      <td>Slight</td>\n",
       "      <td>23/02/2022</td>\n",
       "      <td>57.585044</td>\n",
       "      <td>Daylight</td>\n",
       "      <td>Highland</td>\n",
       "      <td>-3.862727</td>\n",
       "      <td>1</td>\n",
       "      <td>3</td>\n",
       "      <td>Frost or ice</td>\n",
       "      <td>Single carriageway</td>\n",
       "      <td>Rural</td>\n",
       "      <td>Fine no high winds</td>\n",
       "      <td>Car</td>\n",
       "    </tr>\n",
       "    <tr>\n",
       "      <th>660677</th>\n",
       "      <td>201091NM01964</td>\n",
       "      <td>Serious</td>\n",
       "      <td>23/02/2022</td>\n",
       "      <td>57.214898</td>\n",
       "      <td>Darkness - no lighting</td>\n",
       "      <td>Highland</td>\n",
       "      <td>-3.823997</td>\n",
       "      <td>1</td>\n",
       "      <td>2</td>\n",
       "      <td>Wet or damp</td>\n",
       "      <td>Single carriageway</td>\n",
       "      <td>Rural</td>\n",
       "      <td>Fine no high winds</td>\n",
       "      <td>Motorcycle over 500cc</td>\n",
       "    </tr>\n",
       "    <tr>\n",
       "      <th>660678</th>\n",
       "      <td>201091NM02142</td>\n",
       "      <td>Serious</td>\n",
       "      <td>28/02/2022</td>\n",
       "      <td>57.575210</td>\n",
       "      <td>Daylight</td>\n",
       "      <td>Highland</td>\n",
       "      <td>-3.895673</td>\n",
       "      <td>1</td>\n",
       "      <td>1</td>\n",
       "      <td>Wet or damp</td>\n",
       "      <td>Dual carriageway</td>\n",
       "      <td>Rural</td>\n",
       "      <td>Snowing no high winds</td>\n",
       "      <td>Car</td>\n",
       "    </tr>\n",
       "  </tbody>\n",
       "</table>\n",
       "<p>660679 rows × 14 columns</p>\n",
       "</div>"
      ],
      "text/plain": [
       "                Index Accident_Severity Accident Date   Latitude  \\\n",
       "0       200701BS64157           Serious    05/06/2019  51.506187   \n",
       "1       200701BS65737           Serious    02/07/2019  51.495029   \n",
       "2       200701BS66127           Serious    26/08/2019  51.517715   \n",
       "3       200701BS66128           Serious    16/08/2019  51.495478   \n",
       "4       200701BS66837            Slight    03/09/2019  51.488576   \n",
       "...               ...               ...           ...        ...   \n",
       "660674  201091NM01760            Slight    18/02/2022  57.374005   \n",
       "660675  201091NM01881            Slight    21/02/2022  57.232273   \n",
       "660676  201091NM01935            Slight    23/02/2022  57.585044   \n",
       "660677  201091NM01964           Serious    23/02/2022  57.214898   \n",
       "660678  201091NM02142           Serious    28/02/2022  57.575210   \n",
       "\n",
       "                   Light_Conditions           District Area  Longitude  \\\n",
       "0             Darkness - lights lit  Kensington and Chelsea  -0.209082   \n",
       "1                          Daylight  Kensington and Chelsea  -0.173647   \n",
       "2       Darkness - lighting unknown  Kensington and Chelsea  -0.210215   \n",
       "3                          Daylight  Kensington and Chelsea  -0.202731   \n",
       "4             Darkness - lights lit  Kensington and Chelsea  -0.192487   \n",
       "...                             ...                     ...        ...   \n",
       "660674                     Daylight                Highland  -3.467828   \n",
       "660675       Darkness - no lighting                Highland  -3.809281   \n",
       "660676                     Daylight                Highland  -3.862727   \n",
       "660677       Darkness - no lighting                Highland  -3.823997   \n",
       "660678                     Daylight                Highland  -3.895673   \n",
       "\n",
       "        Number_of_Casualties  Number_of_Vehicles Road_Surface_Conditions  \\\n",
       "0                          1                   2                     Dry   \n",
       "1                          1                   2             Wet or damp   \n",
       "2                          1                   3                     Dry   \n",
       "3                          1                   4                     Dry   \n",
       "4                          1                   2                     Dry   \n",
       "...                      ...                 ...                     ...   \n",
       "660674                     2                   1                     Dry   \n",
       "660675                     1                   1            Frost or ice   \n",
       "660676                     1                   3            Frost or ice   \n",
       "660677                     1                   2             Wet or damp   \n",
       "660678                     1                   1             Wet or damp   \n",
       "\n",
       "                 Road_Type Urban_or_Rural_Area     Weather_Conditions  \\\n",
       "0       Single carriageway               Urban     Fine no high winds   \n",
       "1       Single carriageway               Urban  Raining no high winds   \n",
       "2                      NaN               Urban                    NaN   \n",
       "3       Single carriageway               Urban     Fine no high winds   \n",
       "4                      NaN               Urban                    NaN   \n",
       "...                    ...                 ...                    ...   \n",
       "660674  Single carriageway               Rural     Fine no high winds   \n",
       "660675  Single carriageway               Rural     Fine no high winds   \n",
       "660676  Single carriageway               Rural     Fine no high winds   \n",
       "660677  Single carriageway               Rural     Fine no high winds   \n",
       "660678    Dual carriageway               Rural  Snowing no high winds   \n",
       "\n",
       "                                Vehicle_Type  \n",
       "0                                        Car  \n",
       "1                                        Car  \n",
       "2                      Taxi/Private hire car  \n",
       "3       Bus or coach (17 or more pass seats)  \n",
       "4                              Other vehicle  \n",
       "...                                      ...  \n",
       "660674                                   Car  \n",
       "660675                                   Car  \n",
       "660676                                   Car  \n",
       "660677                 Motorcycle over 500cc  \n",
       "660678                                   Car  \n",
       "\n",
       "[660679 rows x 14 columns]"
      ]
     },
     "execution_count": 3,
     "metadata": {},
     "output_type": "execute_result"
    }
   ],
   "source": [
    "accident"
   ]
  },
  {
   "cell_type": "markdown",
   "id": "5c99dde2-fdd2-4cc0-ba02-c120dc46ce96",
   "metadata": {},
   "source": [
    "<h1>Data Preparation</h1>"
   ]
  },
  {
   "cell_type": "code",
   "execution_count": 4,
   "id": "55d3f2b2-7943-40b6-bc48-2e79367e9e6b",
   "metadata": {},
   "outputs": [
    {
     "data": {
      "text/plain": [
       "Index                       object\n",
       "Accident_Severity           object\n",
       "Accident Date               object\n",
       "Latitude                   float64\n",
       "Light_Conditions            object\n",
       "District Area               object\n",
       "Longitude                  float64\n",
       "Number_of_Casualties         int64\n",
       "Number_of_Vehicles           int64\n",
       "Road_Surface_Conditions     object\n",
       "Road_Type                   object\n",
       "Urban_or_Rural_Area         object\n",
       "Weather_Conditions          object\n",
       "Vehicle_Type                object\n",
       "dtype: object"
      ]
     },
     "execution_count": 4,
     "metadata": {},
     "output_type": "execute_result"
    }
   ],
   "source": [
    "accident.dtypes"
   ]
  },
  {
   "cell_type": "markdown",
   "id": "4cdf9033-01dd-4b10-ab63-3af62e626586",
   "metadata": {},
   "source": [
    "<h1>CHANGING DATA TYPES</h1>"
   ]
  },
  {
   "cell_type": "code",
   "execution_count": 5,
   "id": "db301952-f89e-405f-83ba-4acb1640b813",
   "metadata": {},
   "outputs": [
    {
     "data": {
      "text/plain": [
       "0         True\n",
       "1         True\n",
       "2         True\n",
       "3         True\n",
       "4         True\n",
       "          ... \n",
       "660674    True\n",
       "660675    True\n",
       "660676    True\n",
       "660677    True\n",
       "660678    True\n",
       "Name: Accident_Severity, Length: 660679, dtype: bool"
      ]
     },
     "execution_count": 5,
     "metadata": {},
     "output_type": "execute_result"
    }
   ],
   "source": [
    "accident['Accident_Severity'] == accident['Accident_Severity'].astype('category')"
   ]
  },
  {
   "cell_type": "code",
   "execution_count": 6,
   "id": "c00606dc-9f93-49ea-9126-2f0cc958b060",
   "metadata": {},
   "outputs": [
    {
     "data": {
      "text/plain": [
       "Accident_Severity\n",
       "Slight     563801\n",
       "Serious     88217\n",
       "Fatal        8661\n",
       "Name: count, dtype: int64"
      ]
     },
     "execution_count": 6,
     "metadata": {},
     "output_type": "execute_result"
    }
   ],
   "source": [
    "accident['Accident_Severity'].value_counts()"
   ]
  },
  {
   "cell_type": "code",
   "execution_count": 7,
   "id": "c18a8cf0-ad0c-49ca-a086-0ddaaa470d81",
   "metadata": {},
   "outputs": [
    {
     "data": {
      "text/plain": [
       "Index                       object\n",
       "Accident_Severity           object\n",
       "Accident Date               object\n",
       "Latitude                   float64\n",
       "Light_Conditions            object\n",
       "District Area               object\n",
       "Longitude                  float64\n",
       "Number_of_Casualties         int64\n",
       "Number_of_Vehicles           int64\n",
       "Road_Surface_Conditions     object\n",
       "Road_Type                   object\n",
       "Urban_or_Rural_Area         object\n",
       "Weather_Conditions          object\n",
       "Vehicle_Type                object\n",
       "dtype: object"
      ]
     },
     "execution_count": 7,
     "metadata": {},
     "output_type": "execute_result"
    }
   ],
   "source": [
    "accident.dtypes"
   ]
  },
  {
   "cell_type": "code",
   "execution_count": 8,
   "id": "6d81a6f0-55d5-46d7-a320-4c332aa72834",
   "metadata": {},
   "outputs": [],
   "source": [
    "accident['Latitude'] = accident['Latitude'].fillna(accident['Latitude'].mode()[0])\n",
    "accident['Longitude'] = accident['Longitude'].fillna(accident['Longitude'].mode()[0])\n",
    "accident['Road_Surface_Conditions'] = accident['Road_Surface_Conditions'].fillna(accident['Road_Surface_Conditions'].mode()[0])\n",
    "accident['Road_Type'] = accident['Road_Type'].fillna('unaccounted')\n",
    "accident['Weather_Conditions'] = accident['Weather_Conditions'].fillna(accident['Weather_Conditions'].mode()[0])\n",
    "accident['Urban_or_Rural_Area'] = accident['Urban_or_Rural_Area'].fillna(accident['Urban_or_Rural_Area'].mode()[0])"
   ]
  },
  {
   "cell_type": "code",
   "execution_count": 9,
   "id": "b3928134-d4df-433a-8c07-a4d0aa900e76",
   "metadata": {},
   "outputs": [
    {
     "data": {
      "text/plain": [
       "Index                      0\n",
       "Accident_Severity          0\n",
       "Accident Date              0\n",
       "Latitude                   0\n",
       "Light_Conditions           0\n",
       "District Area              0\n",
       "Longitude                  0\n",
       "Number_of_Casualties       0\n",
       "Number_of_Vehicles         0\n",
       "Road_Surface_Conditions    0\n",
       "Road_Type                  0\n",
       "Urban_or_Rural_Area        0\n",
       "Weather_Conditions         0\n",
       "Vehicle_Type               0\n",
       "dtype: int64"
      ]
     },
     "execution_count": 9,
     "metadata": {},
     "output_type": "execute_result"
    }
   ],
   "source": [
    "accident.isnull().sum()"
   ]
  },
  {
   "cell_type": "markdown",
   "id": "c4bda895-5d10-4c71-acb8-9c1416e7aa9c",
   "metadata": {},
   "source": [
    "<h1>Categorical Data Fields</h1>"
   ]
  },
  {
   "cell_type": "code",
   "execution_count": 10,
   "id": "30e76508-0a73-4052-8a49-db046f094018",
   "metadata": {},
   "outputs": [],
   "source": [
    "accident['Accident_Severity'] = accident['Accident_Severity'].astype('category')\n",
    "accident['Latitude'] = accident['Latitude'].astype('category')\n",
    "accident['Light_Conditions'] = accident['Light_Conditions'].astype('category')\n",
    "accident['District Area'] = accident['District Area'].astype('category')\n",
    "accident['Longitude'] = accident['Longitude'].astype('category')\n",
    "accident['Road_Surface_Conditions'] = accident['Road_Surface_Conditions'].astype('category')\n",
    "accident['Road_Type'] = accident['Road_Type'].astype('category')\n",
    "accident['Urban_or_Rural_Area'] = accident['Urban_or_Rural_Area'].astype('category')\n",
    "accident['Weather_Conditions'] = accident['Weather_Conditions'].astype('category')\n",
    "accident['Vehicle_Type'] = accident['Vehicle_Type'].astype('category')\n"
   ]
  },
  {
   "cell_type": "code",
   "execution_count": 11,
   "id": "1e1bc38e-51cd-4683-a1af-bfe899c9995a",
   "metadata": {},
   "outputs": [
    {
     "data": {
      "text/plain": [
       "Index                        object\n",
       "Accident_Severity          category\n",
       "Accident Date                object\n",
       "Latitude                   category\n",
       "Light_Conditions           category\n",
       "District Area              category\n",
       "Longitude                  category\n",
       "Number_of_Casualties          int64\n",
       "Number_of_Vehicles            int64\n",
       "Road_Surface_Conditions    category\n",
       "Road_Type                  category\n",
       "Urban_or_Rural_Area        category\n",
       "Weather_Conditions         category\n",
       "Vehicle_Type               category\n",
       "dtype: object"
      ]
     },
     "execution_count": 11,
     "metadata": {},
     "output_type": "execute_result"
    }
   ],
   "source": [
    "accident.dtypes"
   ]
  },
  {
   "cell_type": "markdown",
   "id": "9d1c6536-26ba-4629-a612-99c3a1d6c760",
   "metadata": {},
   "source": [
    "<h1>CONVERTING OBJECT TO DATE TIME DATA TYPE</h1>"
   ]
  },
  {
   "cell_type": "code",
   "execution_count": 12,
   "id": "36e2d8a0-e3ed-4a9d-873c-895fa7541950",
   "metadata": {},
   "outputs": [],
   "source": [
    "accident['Accident Date'] = pd.to_datetime(accident['Accident Date'], dayfirst = True, errors = 'coerce')"
   ]
  },
  {
   "cell_type": "markdown",
   "id": "097a8888-d1c3-4bd1-b297-b81b7cf1c213",
   "metadata": {},
   "source": [
    "accident.dtypes"
   ]
  },
  {
   "cell_type": "code",
   "execution_count": 13,
   "id": "e066bcb7-a3ff-41b2-90d0-501b68e3ead9",
   "metadata": {},
   "outputs": [
    {
     "data": {
      "text/plain": [
       "Index                      0\n",
       "Accident_Severity          0\n",
       "Accident Date              0\n",
       "Latitude                   0\n",
       "Light_Conditions           0\n",
       "District Area              0\n",
       "Longitude                  0\n",
       "Number_of_Casualties       0\n",
       "Number_of_Vehicles         0\n",
       "Road_Surface_Conditions    0\n",
       "Road_Type                  0\n",
       "Urban_or_Rural_Area        0\n",
       "Weather_Conditions         0\n",
       "Vehicle_Type               0\n",
       "dtype: int64"
      ]
     },
     "execution_count": 13,
     "metadata": {},
     "output_type": "execute_result"
    }
   ],
   "source": [
    "accident.isnull().sum()"
   ]
  },
  {
   "cell_type": "markdown",
   "id": "cf360f5c-851b-4b63-8e9c-a82b9f4cee1c",
   "metadata": {},
   "source": [
    "<h1>Extracting Data Information Using Pandas Date Time</h1>"
   ]
  },
  {
   "cell_type": "code",
   "execution_count": 14,
   "id": "e283f095-9ccc-4b28-b335-b660fa1d271b",
   "metadata": {},
   "outputs": [],
   "source": [
    "accident['Year'] = accident['Accident Date'].dt.year\n",
    "accident['Month'] = accident['Accident Date'].dt.month\n",
    "accident['Day'] = accident['Accident Date'].dt.day\n",
    "accident['DayOfWeek'] = accident['Accident Date'].dt.dayofweek"
   ]
  },
  {
   "cell_type": "code",
   "execution_count": 15,
   "id": "4e4aa01d-a4c3-4568-b999-858314257dfc",
   "metadata": {},
   "outputs": [
    {
     "name": "stdout",
     "output_type": "stream",
     "text": [
      "<class 'pandas.core.frame.DataFrame'>\n",
      "RangeIndex: 660679 entries, 0 to 660678\n",
      "Data columns (total 18 columns):\n",
      " #   Column                   Non-Null Count   Dtype         \n",
      "---  ------                   --------------   -----         \n",
      " 0   Index                    660679 non-null  object        \n",
      " 1   Accident_Severity        660679 non-null  category      \n",
      " 2   Accident Date            660679 non-null  datetime64[ns]\n",
      " 3   Latitude                 660679 non-null  category      \n",
      " 4   Light_Conditions         660679 non-null  category      \n",
      " 5   District Area            660679 non-null  category      \n",
      " 6   Longitude                660679 non-null  category      \n",
      " 7   Number_of_Casualties     660679 non-null  int64         \n",
      " 8   Number_of_Vehicles       660679 non-null  int64         \n",
      " 9   Road_Surface_Conditions  660679 non-null  category      \n",
      " 10  Road_Type                660679 non-null  category      \n",
      " 11  Urban_or_Rural_Area      660679 non-null  category      \n",
      " 12  Weather_Conditions       660679 non-null  category      \n",
      " 13  Vehicle_Type             660679 non-null  category      \n",
      " 14  Year                     660679 non-null  int32         \n",
      " 15  Month                    660679 non-null  int32         \n",
      " 16  Day                      660679 non-null  int32         \n",
      " 17  DayOfWeek                660679 non-null  int32         \n",
      "dtypes: category(10), datetime64[ns](1), int32(4), int64(2), object(1)\n",
      "memory usage: 81.2+ MB\n"
     ]
    }
   ],
   "source": [
    "accident.info()"
   ]
  },
  {
   "cell_type": "markdown",
   "id": "b24a5b92-f8dd-4c2f-b301-f9871460772b",
   "metadata": {},
   "source": [
    "<h1>UniVariate</h1>"
   ]
  },
  {
   "cell_type": "code",
   "execution_count": 16,
   "id": "d5cecdc5-f708-422e-a885-fce35c574bb0",
   "metadata": {},
   "outputs": [],
   "source": [
    "df_2019 = accident[accident['Year'] == 2019]"
   ]
  },
  {
   "cell_type": "markdown",
   "id": "2d1c63f0-2bdd-4b1c-a85e-033ebbc06136",
   "metadata": {},
   "source": [
    "<h1>UniVariate Analysis From Year 2019</h1>"
   ]
  },
  {
   "cell_type": "markdown",
   "id": "716adb40-5bac-4864-817a-7b6a390fdbdd",
   "metadata": {},
   "source": [
    "<h2>Question: How many incidents happened under light conditions in Year 2019?</h2>"
   ]
  },
  {
   "cell_type": "code",
   "execution_count": 17,
   "id": "21be6eb8-564a-4014-80e5-2004a9bea73b",
   "metadata": {},
   "outputs": [
    {
     "data": {
      "text/plain": [
       "Light_Conditions\n",
       "Daylight                       133042\n",
       "Darkness - lights lit           35769\n",
       "Darkness - no lighting          10842\n",
       "Darkness - lighting unknown      1768\n",
       "Darkness - lights unlit           694\n",
       "Name: count, dtype: int64"
      ]
     },
     "execution_count": 17,
     "metadata": {},
     "output_type": "execute_result"
    }
   ],
   "source": [
    "df_2019['Light_Conditions'].value_counts()"
   ]
  },
  {
   "cell_type": "markdown",
   "id": "9ec1a782-7908-4ee8-bbec-f1292497588a",
   "metadata": {},
   "source": [
    "<h1><span style = color:red>Analysis No.1</span></h1>\n",
    "<h2><span style = color:Yellow>Question: </span>Which Accident Severity has the highest during the Lighting Conditons of Darkness - no lighting?</h2>"
   ]
  },
  {
   "cell_type": "code",
   "execution_count": 18,
   "id": "a38390c7-95b0-4b78-a714-bc823b519ff5",
   "metadata": {},
   "outputs": [
    {
     "data": {
      "text/plain": [
       "Accident_Severity\n",
       "Slight     28651\n",
       "Serious     7174\n",
       "Fatal       1612\n",
       "Name: count, dtype: int64"
      ]
     },
     "execution_count": 18,
     "metadata": {},
     "output_type": "execute_result"
    }
   ],
   "source": [
    "df_light_conditons = accident[accident['Light_Conditions'] == 'Darkness - no lighting']\n",
    "\n",
    "df_light_conditons['Accident_Severity'].value_counts()"
   ]
  },
  {
   "cell_type": "markdown",
   "id": "59964b85-b234-4453-b9c6-ec5ca50ca628",
   "metadata": {},
   "source": [
    "<h3><span style = color:green >Insight No:1</span>  The highest Accident Severity during the Lighting Conditions of no lighting is the Slight.</h3>"
   ]
  },
  {
   "cell_type": "markdown",
   "id": "3204489f-cf91-40f7-a670-08e86b589f6e",
   "metadata": {},
   "source": [
    "<h1><span style = color:red>Analysis No.2</span></h1>\n",
    "<h2><span style = color:Yellow>Question: </span> Which vehicle type has the most fatal accident?</h2>"
   ]
  },
  {
   "cell_type": "code",
   "execution_count": 19,
   "id": "761782d1-5d98-4584-96b4-ba55cd087a6e",
   "metadata": {},
   "outputs": [
    {
     "data": {
      "text/plain": [
       "Vehicle_Type\n",
       "Car                                      6577\n",
       "Van / Goods 3.5 tonnes mgw or under       467\n",
       "Motorcycle over 500cc                     339\n",
       "Bus or coach (17 or more pass seats)      325\n",
       "Goods 7.5 tonnes mgw and over             216\n",
       "Motorcycle 125cc and under                189\n",
       "Taxi/Private hire car                     155\n",
       "Motorcycle over 125cc and up to 500cc     105\n",
       "Motorcycle 50cc and under                  95\n",
       "Other vehicle                              70\n",
       "Goods over 3.5t. and under 7.5t            67\n",
       "Minibus (8 - 16 passenger seats)           29\n",
       "Agricultural vehicle                       21\n",
       "Pedal cycle                                 6\n",
       "Data missing or out of range                0\n",
       "Ridden horse                                0\n",
       "Name: count, dtype: int64"
      ]
     },
     "execution_count": 19,
     "metadata": {},
     "output_type": "execute_result"
    }
   ],
   "source": [
    "df_fatal = accident[accident['Accident_Severity'] == 'Fatal']\n",
    "df_fatal['Vehicle_Type'].value_counts()"
   ]
  },
  {
   "cell_type": "markdown",
   "id": "5e56c847-0afb-489f-9bf6-d6155bad3b02",
   "metadata": {},
   "source": [
    "<h3><span style = color:green >Insight No:2</span> The vehicle that has the most fatal accident is the Car.</h3>"
   ]
  },
  {
   "cell_type": "markdown",
   "id": "7533e6a1-83a3-4500-82d8-339a31247e13",
   "metadata": {},
   "source": [
    "<h1><span style = color:red>Analysis No.3</span></h1>\n",
    "<h2><span style = color:Yellow>Question: </span>What Year has the most accident during the weather conditions of Fog or mist?</h2>"
   ]
  },
  {
   "cell_type": "code",
   "execution_count": 20,
   "id": "086eeda5-74df-4ac5-8882-911628de443e",
   "metadata": {},
   "outputs": [
    {
     "data": {
      "text/plain": [
       "Year\n",
       "2020    981\n",
       "2022    902\n",
       "2019    857\n",
       "2021    788\n",
       "Name: count, dtype: int64"
      ]
     },
     "execution_count": 20,
     "metadata": {},
     "output_type": "execute_result"
    }
   ],
   "source": [
    "df_fog_mist = accident[accident['Weather_Conditions'] == 'Fog or mist']\n",
    "df_fog_mist['Year'].value_counts()"
   ]
  },
  {
   "cell_type": "markdown",
   "id": "5ea2d1fc-1359-409d-9ab2-22e4787ffb32",
   "metadata": {},
   "source": [
    "<h3><span style = color:green >Insight No:3</span>The Year that has the most accident during the weather condition of Fog or mist is the Year 2020.</h3>"
   ]
  },
  {
   "cell_type": "markdown",
   "id": "e7a26140-ddab-446b-9125-cdd60160fb22",
   "metadata": {},
   "source": [
    "<h1><span style = color:red>Analysis No.4</span></h1>\n",
    "<h2><span style = color:Yellow>Question: </span>Is there a correlation between the number of casualty and the number of vehicle?</h2>"
   ]
  },
  {
   "cell_type": "code",
   "execution_count": 21,
   "id": "f82cde08-3761-48a3-9850-44e1bdc9d03d",
   "metadata": {},
   "outputs": [
    {
     "data": {
      "text/plain": [
       "0.2"
      ]
     },
     "execution_count": 21,
     "metadata": {},
     "output_type": "execute_result"
    }
   ],
   "source": [
    "df_casulaty_vehicle = accident['Number_of_Casualties'].corr(accident['Number_of_Vehicles'])\n",
    "np.round(df_casulaty_vehicle.mean(),1)\n"
   ]
  },
  {
   "cell_type": "markdown",
   "id": "a95b50e8-9417-4e15-ab0b-5dc1eca02622",
   "metadata": {},
   "source": [
    "<h3><span style = color:green >Insight No:4</span> There is no correlation between the number of casualty and the number of vehicle.</h3>"
   ]
  },
  {
   "cell_type": "markdown",
   "id": "c1bd15b7-2899-4452-b7f7-45368a0f98dc",
   "metadata": {},
   "source": [
    "<h1><span style = color:red>Analysis No.5</span></h1>\n",
    "<h2><span style = color:Yellow>Question: </span>Accident Severity in every Road Type</h2>"
   ]
  },
  {
   "cell_type": "code",
   "execution_count": 22,
   "id": "8207c3e7-3cdf-42d0-8ff5-e76d05abdaac",
   "metadata": {},
   "outputs": [
    {
     "data": {
      "text/html": [
       "<div>\n",
       "<style scoped>\n",
       "    .dataframe tbody tr th:only-of-type {\n",
       "        vertical-align: middle;\n",
       "    }\n",
       "\n",
       "    .dataframe tbody tr th {\n",
       "        vertical-align: top;\n",
       "    }\n",
       "\n",
       "    .dataframe thead th {\n",
       "        text-align: right;\n",
       "    }\n",
       "</style>\n",
       "<table border=\"1\" class=\"dataframe\">\n",
       "  <thead>\n",
       "    <tr style=\"text-align: right;\">\n",
       "      <th>Road_Type</th>\n",
       "      <th>Dual carriageway</th>\n",
       "      <th>One way street</th>\n",
       "      <th>Roundabout</th>\n",
       "      <th>Single carriageway</th>\n",
       "      <th>Slip road</th>\n",
       "      <th>unaccounted</th>\n",
       "    </tr>\n",
       "    <tr>\n",
       "      <th>Accident_Severity</th>\n",
       "      <th></th>\n",
       "      <th></th>\n",
       "      <th></th>\n",
       "      <th></th>\n",
       "      <th></th>\n",
       "      <th></th>\n",
       "    </tr>\n",
       "  </thead>\n",
       "  <tbody>\n",
       "    <tr>\n",
       "      <th>Fatal</th>\n",
       "      <td>1815</td>\n",
       "      <td>95</td>\n",
       "      <td>142</td>\n",
       "      <td>6527</td>\n",
       "      <td>49</td>\n",
       "      <td>33</td>\n",
       "    </tr>\n",
       "    <tr>\n",
       "      <th>Serious</th>\n",
       "      <td>11746</td>\n",
       "      <td>1655</td>\n",
       "      <td>3665</td>\n",
       "      <td>70059</td>\n",
       "      <td>611</td>\n",
       "      <td>481</td>\n",
       "    </tr>\n",
       "    <tr>\n",
       "      <th>Slight</th>\n",
       "      <td>85863</td>\n",
       "      <td>11809</td>\n",
       "      <td>40185</td>\n",
       "      <td>415557</td>\n",
       "      <td>6381</td>\n",
       "      <td>4006</td>\n",
       "    </tr>\n",
       "  </tbody>\n",
       "</table>\n",
       "</div>"
      ],
      "text/plain": [
       "Road_Type          Dual carriageway  One way street  Roundabout  \\\n",
       "Accident_Severity                                                 \n",
       "Fatal                          1815              95         142   \n",
       "Serious                       11746            1655        3665   \n",
       "Slight                        85863           11809       40185   \n",
       "\n",
       "Road_Type          Single carriageway  Slip road  unaccounted  \n",
       "Accident_Severity                                              \n",
       "Fatal                            6527         49           33  \n",
       "Serious                         70059        611          481  \n",
       "Slight                         415557       6381         4006  "
      ]
     },
     "execution_count": 22,
     "metadata": {},
     "output_type": "execute_result"
    }
   ],
   "source": [
    "df_severity_rtype = accident.groupby(['Accident_Severity', 'Road_Type'],observed = True).size()\n",
    "df_severity_rtype.unstack()"
   ]
  },
  {
   "cell_type": "markdown",
   "id": "2d76cd0e-f569-40cd-b97f-7c9311ab167a",
   "metadata": {},
   "source": [
    "<h3><span style = color:green >Insight No:5</span> Single carriageways account for the highest number of serious accidents, with 70,059 cases (66.7%), and slight accidents, with 415,557 cases (69.4%), highlighting their vulnerability to severe crashes.</h3>"
   ]
  },
  {
   "cell_type": "markdown",
   "id": "4a54ae4a-6b36-4fc3-8b32-8478f4959a74",
   "metadata": {},
   "source": [
    "<h1><span style = color:red>Analysis No.6</span></h1>\n",
    "<h2><span style = color:Yellow>Question: </span> How many casualties occur during the Weather Condition of Snowing no high winds in the Year 2021?</h2>"
   ]
  },
  {
   "cell_type": "code",
   "execution_count": 23,
   "id": "b3b314c8-b036-4c8e-afc8-98b6f0fd9e05",
   "metadata": {},
   "outputs": [
    {
     "name": "stdout",
     "output_type": "stream",
     "text": [
      "Snowing no high winds: 2923\n"
     ]
    }
   ],
   "source": [
    "df_snowing = accident[accident['Weather_Conditions']== 'Snowing no high winds']\n",
    "df_2021 = df_snowing[df_snowing['Year'] == 2022]\n",
    "\n",
    "Snowing = df_2021['Weather_Conditions'].value_counts()\n",
    "print('Snowing no high winds:',Snowing.get('Snowing no high winds'))\n",
    "\n"
   ]
  },
  {
   "cell_type": "markdown",
   "id": "ba7fc374-f0ca-4c0c-8d94-ba75a21fae74",
   "metadata": {},
   "source": [
    "<h3><span style = color:green >Insight No:6</span> There are 2,923 casualties during Snowing no high winds in the Year 2021</h3>"
   ]
  },
  {
   "cell_type": "markdown",
   "id": "de32d4a4-8409-4741-bff9-78b97e73fd86",
   "metadata": {},
   "source": [
    "<h1><span style = color:red>Analysis No.7</span></h1>\n",
    "<h2><span style = color:Yellow>Question: </span> Which vehicle type usually gets an accident in Urban Area?</h2>"
   ]
  },
  {
   "cell_type": "code",
   "execution_count": 24,
   "id": "1b1855de-9ace-4398-8eaf-3f617a723ab9",
   "metadata": {},
   "outputs": [
    {
     "data": {
      "text/plain": [
       "Vehicle_Type\n",
       "Car                                      316062\n",
       "Van / Goods 3.5 tonnes mgw or under       22003\n",
       "Bus or coach (17 or more pass seats)      16851\n",
       "Motorcycle over 500cc                     16700\n",
       "Goods 7.5 tonnes mgw and over             11151\n",
       "Motorcycle 125cc and under                10246\n",
       "Taxi/Private hire car                      8617\n",
       "Motorcycle over 125cc and up to 500cc      4982\n",
       "Motorcycle 50cc and under                  4893\n",
       "Goods over 3.5t. and under 7.5t            3864\n",
       "Other vehicle                              3643\n",
       "Agricultural vehicle                       1272\n",
       "Minibus (8 - 16 passenger seats)           1258\n",
       "Pedal cycle                                 127\n",
       "Data missing or out of range                  6\n",
       "Ridden horse                                  3\n",
       "Name: count, dtype: int64"
      ]
     },
     "execution_count": 24,
     "metadata": {},
     "output_type": "execute_result"
    }
   ],
   "source": [
    "df_urban = accident[accident['Urban_or_Rural_Area'] == 'Urban']\n",
    "df_urban['Vehicle_Type'].value_counts()"
   ]
  },
  {
   "cell_type": "markdown",
   "id": "a0dbfe6c-d310-45be-86da-705fdccd69d5",
   "metadata": {},
   "source": [
    "<h3><span style = color:green >Insight No:7</span> The type of vehicle that usually gets an accident in Urban Area is the Car</h3>"
   ]
  },
  {
   "cell_type": "markdown",
   "id": "6a9103c8-36de-4daf-b102-d13880b85bca",
   "metadata": {},
   "source": [
    "<h1><span style = color:red>Analysis No.8</span></h1>\n",
    "<h2><span style = color:Yellow>Question: </span>How many accidents of Motorcycle over 500cc during Weather Conditions of Fine no high winds in Every Year?</h2>"
   ]
  },
  {
   "cell_type": "code",
   "execution_count": 25,
   "id": "afe6a13d-c1df-4688-9759-c5e13e0871fc",
   "metadata": {},
   "outputs": [
    {
     "data": {
      "text/plain": [
       "Year\n",
       "2019    6223\n",
       "2020    5366\n",
       "2021    4964\n",
       "2022    4240\n",
       "Name: count, dtype: int64"
      ]
     },
     "execution_count": 25,
     "metadata": {},
     "output_type": "execute_result"
    }
   ],
   "source": [
    "df_no_winds = accident[accident['Weather_Conditions'] == 'Fine no high winds']\n",
    "\n",
    "df_500cc = df_no_winds[df_no_winds['Vehicle_Type'] == 'Motorcycle over 500cc']\n",
    "\n",
    "df_500cc['Year'].value_counts()"
   ]
  },
  {
   "cell_type": "markdown",
   "id": "6bc0b5b3-a185-4d96-8183-bb5c9ac32755",
   "metadata": {},
   "source": [
    "<h3><span style = color:green >Insight No:8</span> In 2019 there are 6,223, in 2020 there are 5,366, in 2021 there are 4,964 and in 2022 there are 4,240 accidents of motorcycle over 500cc</h3>"
   ]
  },
  {
   "cell_type": "markdown",
   "id": "87a89e24-2acb-4972-9c72-14364ce84a64",
   "metadata": {},
   "source": [
    "<h1><span style = color:red>Analysis No.9</span></h1>\n",
    "<h2><span style = color:Yellow>Question: </span>In what Road Type usually has an accident of motorcycle over 500cc</h2>"
   ]
  },
  {
   "cell_type": "code",
   "execution_count": 46,
   "id": "161b81f6-8785-4f4e-9095-9710a7e46d54",
   "metadata": {},
   "outputs": [
    {
     "data": {
      "text/plain": [
       "Road_Type\n",
       "Single carriageway    19050\n",
       "Dual carriageway       3930\n",
       "Roundabout             1737\n",
       "One way street          499\n",
       "Slip road               284\n",
       "unaccounted             157\n",
       "Name: count, dtype: int64"
      ]
     },
     "execution_count": 46,
     "metadata": {},
     "output_type": "execute_result"
    }
   ],
   "source": [
    "df_500cc = accident[accident['Vehicle_Type'] == 'Motorcycle over 500cc']\n",
    "df_500cc['Road_Type'].value_counts()"
   ]
  },
  {
   "cell_type": "markdown",
   "id": "91e3d2a4-8bd4-4bf0-b555-25fcd2634b0e",
   "metadata": {},
   "source": [
    "<h3><span style = color:green >Insight No:9</span> The Road Type that usually has an accident of motorcycle over 500cc is the Single Carriageway that has 19050</h3>"
   ]
  },
  {
   "cell_type": "markdown",
   "id": "620e0f99-c4af-402a-aa2c-aa10a23bd824",
   "metadata": {},
   "source": [
    "<h1><span style = color:red>Analysis No.10</span></h1>\n",
    "<h2><span style = color:Yellow>Question: </span>Total casualties in every Road Type of every different Year </h2>"
   ]
  },
  {
   "cell_type": "code",
   "execution_count": 28,
   "id": "30ea3e9f-d0c0-4cc8-a3de-50bb3abf5427",
   "metadata": {},
   "outputs": [
    {
     "data": {
      "text/html": [
       "<div>\n",
       "<style scoped>\n",
       "    .dataframe tbody tr th:only-of-type {\n",
       "        vertical-align: middle;\n",
       "    }\n",
       "\n",
       "    .dataframe tbody tr th {\n",
       "        vertical-align: top;\n",
       "    }\n",
       "\n",
       "    .dataframe thead th {\n",
       "        text-align: right;\n",
       "    }\n",
       "</style>\n",
       "<table border=\"1\" class=\"dataframe\">\n",
       "  <thead>\n",
       "    <tr style=\"text-align: right;\">\n",
       "      <th>Road_Type</th>\n",
       "      <th>Dual carriageway</th>\n",
       "      <th>One way street</th>\n",
       "      <th>Roundabout</th>\n",
       "      <th>Single carriageway</th>\n",
       "      <th>Slip road</th>\n",
       "      <th>unaccounted</th>\n",
       "    </tr>\n",
       "    <tr>\n",
       "      <th>Year</th>\n",
       "      <th></th>\n",
       "      <th></th>\n",
       "      <th></th>\n",
       "      <th></th>\n",
       "      <th></th>\n",
       "      <th></th>\n",
       "    </tr>\n",
       "  </thead>\n",
       "  <tbody>\n",
       "    <tr>\n",
       "      <th>2019</th>\n",
       "      <td>28162</td>\n",
       "      <td>3813</td>\n",
       "      <td>11698</td>\n",
       "      <td>134898</td>\n",
       "      <td>1974</td>\n",
       "      <td>1570</td>\n",
       "    </tr>\n",
       "    <tr>\n",
       "      <th>2020</th>\n",
       "      <td>25795</td>\n",
       "      <td>3549</td>\n",
       "      <td>11365</td>\n",
       "      <td>126633</td>\n",
       "      <td>1833</td>\n",
       "      <td>1416</td>\n",
       "    </tr>\n",
       "    <tr>\n",
       "      <th>2021</th>\n",
       "      <td>24052</td>\n",
       "      <td>3271</td>\n",
       "      <td>11041</td>\n",
       "      <td>122573</td>\n",
       "      <td>1698</td>\n",
       "      <td>919</td>\n",
       "    </tr>\n",
       "    <tr>\n",
       "      <th>2022</th>\n",
       "      <td>21415</td>\n",
       "      <td>2926</td>\n",
       "      <td>9888</td>\n",
       "      <td>108039</td>\n",
       "      <td>1536</td>\n",
       "      <td>615</td>\n",
       "    </tr>\n",
       "  </tbody>\n",
       "</table>\n",
       "</div>"
      ],
      "text/plain": [
       "Road_Type  Dual carriageway  One way street  Roundabout  Single carriageway  \\\n",
       "Year                                                                          \n",
       "2019                  28162            3813       11698              134898   \n",
       "2020                  25795            3549       11365              126633   \n",
       "2021                  24052            3271       11041              122573   \n",
       "2022                  21415            2926        9888              108039   \n",
       "\n",
       "Road_Type  Slip road  unaccounted  \n",
       "Year                               \n",
       "2019            1974         1570  \n",
       "2020            1833         1416  \n",
       "2021            1698          919  \n",
       "2022            1536          615  "
      ]
     },
     "execution_count": 28,
     "metadata": {},
     "output_type": "execute_result"
    }
   ],
   "source": [
    "df_severity_rtype = accident.groupby(['Year', 'Road_Type'],observed = True).size()\n",
    "df_severity_rtype.unstack()"
   ]
  },
  {
   "cell_type": "markdown",
   "id": "0b003631-e105-469a-9176-c2232759eabf",
   "metadata": {},
   "source": [
    "<h3><span style = color:green >Insight No:10</span> The total casualties across all road types have been decreasing from 2019 to 2022, with single carriageways experiencing the highest decline from 134,898 in 2019 to 108,039 in 2022, a 19.9% decrease.</h3>"
   ]
  },
  {
   "cell_type": "markdown",
   "id": "4e3a0cd5-e663-47ed-805f-40e9949f2d4c",
   "metadata": {},
   "source": [
    "<h1><span style = color:red>Analysis No.11</span></h1>\n",
    "<h2><span style = color:Yellow>Question: </span>What Day in a week has the highest percentage of Fatal accidents?</h2>"
   ]
  },
  {
   "cell_type": "code",
   "execution_count": 29,
   "id": "65355a8f-2cf4-4e1c-b291-3e56349184aa",
   "metadata": {},
   "outputs": [
    {
     "name": "stdout",
     "output_type": "stream",
     "text": [
      "17.57%\n"
     ]
    },
    {
     "data": {
      "text/plain": [
       "Accident Date\n",
       "6    1522\n",
       "0    1385\n",
       "5    1326\n",
       "2    1113\n",
       "4    1113\n",
       "1    1105\n",
       "3    1097\n",
       "Name: count, dtype: int64"
      ]
     },
     "execution_count": 29,
     "metadata": {},
     "output_type": "execute_result"
    }
   ],
   "source": [
    "df_fatal = accident[accident['Accident_Severity'] == 'Fatal'] \n",
    "\n",
    "fatal = df_fatal['Accident Date'].dt.dayofweek.value_counts().max()\n",
    "\n",
    "percentage = np.round((fatal/df_fatal['Accident Date'].dt.dayofweek.value_counts().sum())*100, 2)\n",
    "print(f\"{percentage}%\")\n",
    "\n",
    "df_fatal['Accident Date'].dt.dayofweek.value_counts()"
   ]
  },
  {
   "cell_type": "markdown",
   "id": "724c9e31-70ca-483f-bb36-36ad90c5505e",
   "metadata": {},
   "source": [
    "<h3><span style = color:green >Insight No:11 </span>According to the analysis, Sunday has the highest number of fatal accidents, totaling 1,522. This accounts for 17.57% of all accidents with fatal severity.</h3>"
   ]
  },
  {
   "cell_type": "markdown",
   "id": "7071b60f-cb95-40d5-9654-73053f2ec301",
   "metadata": {},
   "source": [
    "<h1><span style = color:red>Analysis No.12</span></h1>\n",
    "<h2><span style = color:yellow;>Question:</span> What Accident Severity has is the highest number of accidents under different road conditions and in what Year? </h2>"
   ]
  },
  {
   "cell_type": "code",
   "execution_count": 30,
   "id": "0564fb8f-5b4a-4189-9768-13b2316d074e",
   "metadata": {},
   "outputs": [
    {
     "data": {
      "text/html": [
       "<div>\n",
       "<style scoped>\n",
       "    .dataframe tbody tr th:only-of-type {\n",
       "        vertical-align: middle;\n",
       "    }\n",
       "\n",
       "    .dataframe tbody tr th {\n",
       "        vertical-align: top;\n",
       "    }\n",
       "\n",
       "    .dataframe thead th {\n",
       "        text-align: right;\n",
       "    }\n",
       "</style>\n",
       "<table border=\"1\" class=\"dataframe\">\n",
       "  <thead>\n",
       "    <tr style=\"text-align: right;\">\n",
       "      <th></th>\n",
       "      <th>Accident_Severity</th>\n",
       "      <th>Fatal</th>\n",
       "      <th>Serious</th>\n",
       "      <th>Slight</th>\n",
       "    </tr>\n",
       "    <tr>\n",
       "      <th>Road_Surface_Conditions</th>\n",
       "      <th>Year</th>\n",
       "      <th></th>\n",
       "      <th></th>\n",
       "      <th></th>\n",
       "    </tr>\n",
       "  </thead>\n",
       "  <tbody>\n",
       "    <tr>\n",
       "      <th rowspan=\"4\" valign=\"top\">Dry</th>\n",
       "      <th>2019</th>\n",
       "      <td>1850</td>\n",
       "      <td>17199</td>\n",
       "      <td>106498</td>\n",
       "    </tr>\n",
       "    <tr>\n",
       "      <th>2020</th>\n",
       "      <td>1541</td>\n",
       "      <td>15766</td>\n",
       "      <td>96409</td>\n",
       "    </tr>\n",
       "    <tr>\n",
       "      <th>2021</th>\n",
       "      <td>1333</td>\n",
       "      <td>15325</td>\n",
       "      <td>93777</td>\n",
       "    </tr>\n",
       "    <tr>\n",
       "      <th>2022</th>\n",
       "      <td>1066</td>\n",
       "      <td>13418</td>\n",
       "      <td>84365</td>\n",
       "    </tr>\n",
       "    <tr>\n",
       "      <th rowspan=\"4\" valign=\"top\">Flood over 3cm. deep</th>\n",
       "      <th>2019</th>\n",
       "      <td>4</td>\n",
       "      <td>54</td>\n",
       "      <td>254</td>\n",
       "    </tr>\n",
       "    <tr>\n",
       "      <th>2020</th>\n",
       "      <td>6</td>\n",
       "      <td>45</td>\n",
       "      <td>280</td>\n",
       "    </tr>\n",
       "    <tr>\n",
       "      <th>2021</th>\n",
       "      <td>11</td>\n",
       "      <td>33</td>\n",
       "      <td>216</td>\n",
       "    </tr>\n",
       "    <tr>\n",
       "      <th>2022</th>\n",
       "      <td>2</td>\n",
       "      <td>20</td>\n",
       "      <td>92</td>\n",
       "    </tr>\n",
       "    <tr>\n",
       "      <th rowspan=\"4\" valign=\"top\">Frost or ice</th>\n",
       "      <th>2019</th>\n",
       "      <td>31</td>\n",
       "      <td>284</td>\n",
       "      <td>2254</td>\n",
       "    </tr>\n",
       "    <tr>\n",
       "      <th>2020</th>\n",
       "      <td>47</td>\n",
       "      <td>463</td>\n",
       "      <td>3360</td>\n",
       "    </tr>\n",
       "    <tr>\n",
       "      <th>2021</th>\n",
       "      <td>61</td>\n",
       "      <td>557</td>\n",
       "      <td>4647</td>\n",
       "    </tr>\n",
       "    <tr>\n",
       "      <th>2022</th>\n",
       "      <td>54</td>\n",
       "      <td>703</td>\n",
       "      <td>6056</td>\n",
       "    </tr>\n",
       "    <tr>\n",
       "      <th rowspan=\"4\" valign=\"top\">Snow</th>\n",
       "      <th>2019</th>\n",
       "      <td>3</td>\n",
       "      <td>51</td>\n",
       "      <td>480</td>\n",
       "    </tr>\n",
       "    <tr>\n",
       "      <th>2020</th>\n",
       "      <td>5</td>\n",
       "      <td>71</td>\n",
       "      <td>522</td>\n",
       "    </tr>\n",
       "    <tr>\n",
       "      <th>2021</th>\n",
       "      <td>7</td>\n",
       "      <td>180</td>\n",
       "      <td>1622</td>\n",
       "    </tr>\n",
       "    <tr>\n",
       "      <th>2022</th>\n",
       "      <td>20</td>\n",
       "      <td>263</td>\n",
       "      <td>2666</td>\n",
       "    </tr>\n",
       "    <tr>\n",
       "      <th rowspan=\"4\" valign=\"top\">Wet or damp</th>\n",
       "      <th>2019</th>\n",
       "      <td>826</td>\n",
       "      <td>6734</td>\n",
       "      <td>45593</td>\n",
       "    </tr>\n",
       "    <tr>\n",
       "      <th>2020</th>\n",
       "      <td>742</td>\n",
       "      <td>6776</td>\n",
       "      <td>44558</td>\n",
       "    </tr>\n",
       "    <tr>\n",
       "      <th>2021</th>\n",
       "      <td>645</td>\n",
       "      <td>5902</td>\n",
       "      <td>39238</td>\n",
       "    </tr>\n",
       "    <tr>\n",
       "      <th>2022</th>\n",
       "      <td>407</td>\n",
       "      <td>4373</td>\n",
       "      <td>30914</td>\n",
       "    </tr>\n",
       "  </tbody>\n",
       "</table>\n",
       "</div>"
      ],
      "text/plain": [
       "Accident_Severity             Fatal  Serious  Slight\n",
       "Road_Surface_Conditions Year                        \n",
       "Dry                     2019   1850    17199  106498\n",
       "                        2020   1541    15766   96409\n",
       "                        2021   1333    15325   93777\n",
       "                        2022   1066    13418   84365\n",
       "Flood over 3cm. deep    2019      4       54     254\n",
       "                        2020      6       45     280\n",
       "                        2021     11       33     216\n",
       "                        2022      2       20      92\n",
       "Frost or ice            2019     31      284    2254\n",
       "                        2020     47      463    3360\n",
       "                        2021     61      557    4647\n",
       "                        2022     54      703    6056\n",
       "Snow                    2019      3       51     480\n",
       "                        2020      5       71     522\n",
       "                        2021      7      180    1622\n",
       "                        2022     20      263    2666\n",
       "Wet or damp             2019    826     6734   45593\n",
       "                        2020    742     6776   44558\n",
       "                        2021    645     5902   39238\n",
       "                        2022    407     4373   30914"
      ]
     },
     "execution_count": 30,
     "metadata": {},
     "output_type": "execute_result"
    }
   ],
   "source": [
    "df_severity_RYA = accident.groupby(['Road_Surface_Conditions', 'Year', 'Accident_Severity'],observed = False).size()\n",
    "df_severity_RYA.unstack()"
   ]
  },
  {
   "cell_type": "markdown",
   "id": "05d59b83-ce67-41b9-9029-ac6d0152edf2",
   "metadata": {},
   "source": [
    "<h3><span style = color:green >Insight No:12 </span>According to the analysis, the Accident Severity that has the highest accident under Road Surface Condition is the Slight that has 106,498 on the year of 2019</h3>"
   ]
  },
  {
   "cell_type": "markdown",
   "id": "450d61b5-1471-4655-bbac-7012cafbf9e4",
   "metadata": {},
   "source": [
    "<h1><span style = color:red>Analysis No.13</span></h1>\n",
    "<h1><span style = color:yellow;>Question:</span>How many percent of accidents happens in the year 2021 on the Road Type of Slip Road?</h1>"
   ]
  },
  {
   "cell_type": "code",
   "execution_count": 31,
   "id": "bcd6b30d-692e-4597-b96c-782315f69184",
   "metadata": {},
   "outputs": [
    {
     "data": {
      "text/html": [
       "<div>\n",
       "<style scoped>\n",
       "    .dataframe tbody tr th:only-of-type {\n",
       "        vertical-align: middle;\n",
       "    }\n",
       "\n",
       "    .dataframe tbody tr th {\n",
       "        vertical-align: top;\n",
       "    }\n",
       "\n",
       "    .dataframe thead th {\n",
       "        text-align: right;\n",
       "    }\n",
       "</style>\n",
       "<table border=\"1\" class=\"dataframe\">\n",
       "  <thead>\n",
       "    <tr style=\"text-align: right;\">\n",
       "      <th>Year</th>\n",
       "      <th>2019</th>\n",
       "      <th>2020</th>\n",
       "      <th>2021</th>\n",
       "      <th>2022</th>\n",
       "    </tr>\n",
       "    <tr>\n",
       "      <th>Road_Type</th>\n",
       "      <th></th>\n",
       "      <th></th>\n",
       "      <th></th>\n",
       "      <th></th>\n",
       "    </tr>\n",
       "  </thead>\n",
       "  <tbody>\n",
       "    <tr>\n",
       "      <th>Dual carriageway</th>\n",
       "      <td>28162</td>\n",
       "      <td>25795</td>\n",
       "      <td>24052</td>\n",
       "      <td>21415</td>\n",
       "    </tr>\n",
       "    <tr>\n",
       "      <th>One way street</th>\n",
       "      <td>3813</td>\n",
       "      <td>3549</td>\n",
       "      <td>3271</td>\n",
       "      <td>2926</td>\n",
       "    </tr>\n",
       "    <tr>\n",
       "      <th>Roundabout</th>\n",
       "      <td>11698</td>\n",
       "      <td>11365</td>\n",
       "      <td>11041</td>\n",
       "      <td>9888</td>\n",
       "    </tr>\n",
       "    <tr>\n",
       "      <th>Single carriageway</th>\n",
       "      <td>134898</td>\n",
       "      <td>126633</td>\n",
       "      <td>122573</td>\n",
       "      <td>108039</td>\n",
       "    </tr>\n",
       "    <tr>\n",
       "      <th>Slip road</th>\n",
       "      <td>1974</td>\n",
       "      <td>1833</td>\n",
       "      <td>1698</td>\n",
       "      <td>1536</td>\n",
       "    </tr>\n",
       "    <tr>\n",
       "      <th>unaccounted</th>\n",
       "      <td>1570</td>\n",
       "      <td>1416</td>\n",
       "      <td>919</td>\n",
       "      <td>615</td>\n",
       "    </tr>\n",
       "  </tbody>\n",
       "</table>\n",
       "</div>"
      ],
      "text/plain": [
       "Year                  2019    2020    2021    2022\n",
       "Road_Type                                         \n",
       "Dual carriageway     28162   25795   24052   21415\n",
       "One way street        3813    3549    3271    2926\n",
       "Roundabout           11698   11365   11041    9888\n",
       "Single carriageway  134898  126633  122573  108039\n",
       "Slip road             1974    1833    1698    1536\n",
       "unaccounted           1570    1416     919     615"
      ]
     },
     "execution_count": 31,
     "metadata": {},
     "output_type": "execute_result"
    }
   ],
   "source": [
    "df_severity_RYA = accident.groupby(['Road_Type', 'Year'],observed = False).size()\n",
    "df_severity_RYA.unstack()"
   ]
  },
  {
   "cell_type": "code",
   "execution_count": 49,
   "id": "91980273-01b4-4443-8aec-183a1c36a92a",
   "metadata": {
    "scrolled": true
   },
   "outputs": [
    {
     "name": "stdout",
     "output_type": "stream",
     "text": [
      "4.31%\n"
     ]
    }
   ],
   "source": [
    "df_slip_road = accident[accident['Road_Type'] == 'Slip road']\n",
    "\n",
    "\n",
    "df_sliproad_2021 = accident[accident['Year'] == 2021]\n",
    "\n",
    "\n",
    "tt_percent_2021 = np.round((len(df_slip_road) / len(df_sliproad_2021)) * 100, 2)\n",
    "\n",
    "print(f\"{tt_percent_2021}%\")\n"
   ]
  },
  {
   "cell_type": "markdown",
   "id": "d428ddf9-ae1d-48b3-ae6e-8a2cd3501f09",
   "metadata": {},
   "source": [
    "<h3><span style = color:green >Insight No:13 </span> According to the analysis, there were 1,698 accidents in 2021 on Slip Roads, accounting for 4.31% of the overall accidents. </h3>"
   ]
  },
  {
   "cell_type": "markdown",
   "id": "f86e193b-7b2b-486c-b05f-631aa41b11c4",
   "metadata": {},
   "source": [
    "<h1><span style = color:red>Analysis No.14</span></h1>"
   ]
  },
  {
   "cell_type": "code",
   "execution_count": 33,
   "id": "5dd5fee6-f592-41a1-bdc2-0d6f92ccde94",
   "metadata": {},
   "outputs": [
    {
     "data": {
      "text/html": [
       "<div>\n",
       "<style scoped>\n",
       "    .dataframe tbody tr th:only-of-type {\n",
       "        vertical-align: middle;\n",
       "    }\n",
       "\n",
       "    .dataframe tbody tr th {\n",
       "        vertical-align: top;\n",
       "    }\n",
       "\n",
       "    .dataframe thead th {\n",
       "        text-align: right;\n",
       "    }\n",
       "</style>\n",
       "<table border=\"1\" class=\"dataframe\">\n",
       "  <thead>\n",
       "    <tr style=\"text-align: right;\">\n",
       "      <th></th>\n",
       "      <th>Road_Surface_Conditions</th>\n",
       "      <th>Dry</th>\n",
       "      <th>Flood over 3cm. deep</th>\n",
       "      <th>Frost or ice</th>\n",
       "      <th>Snow</th>\n",
       "      <th>Wet or damp</th>\n",
       "    </tr>\n",
       "    <tr>\n",
       "      <th>Accident_Severity</th>\n",
       "      <th>Weather_Conditions</th>\n",
       "      <th></th>\n",
       "      <th></th>\n",
       "      <th></th>\n",
       "      <th></th>\n",
       "      <th></th>\n",
       "    </tr>\n",
       "  </thead>\n",
       "  <tbody>\n",
       "    <tr>\n",
       "      <th rowspan=\"8\" valign=\"top\">Fatal</th>\n",
       "      <th>Fine + high winds</th>\n",
       "      <td>103</td>\n",
       "      <td>1</td>\n",
       "      <td>3</td>\n",
       "      <td>0</td>\n",
       "      <td>68</td>\n",
       "    </tr>\n",
       "    <tr>\n",
       "      <th>Fine no high winds</th>\n",
       "      <td>5653</td>\n",
       "      <td>6</td>\n",
       "      <td>125</td>\n",
       "      <td>14</td>\n",
       "      <td>1409</td>\n",
       "    </tr>\n",
       "    <tr>\n",
       "      <th>Fog or mist</th>\n",
       "      <td>18</td>\n",
       "      <td>0</td>\n",
       "      <td>8</td>\n",
       "      <td>0</td>\n",
       "      <td>56</td>\n",
       "    </tr>\n",
       "    <tr>\n",
       "      <th>Other</th>\n",
       "      <td>12</td>\n",
       "      <td>0</td>\n",
       "      <td>43</td>\n",
       "      <td>1</td>\n",
       "      <td>109</td>\n",
       "    </tr>\n",
       "    <tr>\n",
       "      <th>Raining + high winds</th>\n",
       "      <td>0</td>\n",
       "      <td>5</td>\n",
       "      <td>1</td>\n",
       "      <td>0</td>\n",
       "      <td>139</td>\n",
       "    </tr>\n",
       "    <tr>\n",
       "      <th>Raining no high winds</th>\n",
       "      <td>2</td>\n",
       "      <td>11</td>\n",
       "      <td>5</td>\n",
       "      <td>1</td>\n",
       "      <td>829</td>\n",
       "    </tr>\n",
       "    <tr>\n",
       "      <th>Snowing + high winds</th>\n",
       "      <td>0</td>\n",
       "      <td>0</td>\n",
       "      <td>0</td>\n",
       "      <td>2</td>\n",
       "      <td>1</td>\n",
       "    </tr>\n",
       "    <tr>\n",
       "      <th>Snowing no high winds</th>\n",
       "      <td>2</td>\n",
       "      <td>0</td>\n",
       "      <td>8</td>\n",
       "      <td>17</td>\n",
       "      <td>9</td>\n",
       "    </tr>\n",
       "    <tr>\n",
       "      <th rowspan=\"8\" valign=\"top\">Serious</th>\n",
       "      <th>Fine + high winds</th>\n",
       "      <td>758</td>\n",
       "      <td>0</td>\n",
       "      <td>21</td>\n",
       "      <td>2</td>\n",
       "      <td>464</td>\n",
       "    </tr>\n",
       "    <tr>\n",
       "      <th>Fine no high winds</th>\n",
       "      <td>60541</td>\n",
       "      <td>23</td>\n",
       "      <td>1258</td>\n",
       "      <td>114</td>\n",
       "      <td>11349</td>\n",
       "    </tr>\n",
       "    <tr>\n",
       "      <th>Fog or mist</th>\n",
       "      <td>63</td>\n",
       "      <td>1</td>\n",
       "      <td>78</td>\n",
       "      <td>4</td>\n",
       "      <td>337</td>\n",
       "    </tr>\n",
       "    <tr>\n",
       "      <th>Other</th>\n",
       "      <td>259</td>\n",
       "      <td>2</td>\n",
       "      <td>477</td>\n",
       "      <td>47</td>\n",
       "      <td>1016</td>\n",
       "    </tr>\n",
       "    <tr>\n",
       "      <th>Raining + high winds</th>\n",
       "      <td>12</td>\n",
       "      <td>40</td>\n",
       "      <td>5</td>\n",
       "      <td>0</td>\n",
       "      <td>1204</td>\n",
       "    </tr>\n",
       "    <tr>\n",
       "      <th>Raining no high winds</th>\n",
       "      <td>66</td>\n",
       "      <td>85</td>\n",
       "      <td>42</td>\n",
       "      <td>11</td>\n",
       "      <td>9264</td>\n",
       "    </tr>\n",
       "    <tr>\n",
       "      <th>Snowing + high winds</th>\n",
       "      <td>1</td>\n",
       "      <td>0</td>\n",
       "      <td>17</td>\n",
       "      <td>67</td>\n",
       "      <td>24</td>\n",
       "    </tr>\n",
       "    <tr>\n",
       "      <th>Snowing no high winds</th>\n",
       "      <td>8</td>\n",
       "      <td>1</td>\n",
       "      <td>109</td>\n",
       "      <td>320</td>\n",
       "      <td>127</td>\n",
       "    </tr>\n",
       "    <tr>\n",
       "      <th rowspan=\"8\" valign=\"top\">Slight</th>\n",
       "      <th>Fine + high winds</th>\n",
       "      <td>4165</td>\n",
       "      <td>14</td>\n",
       "      <td>159</td>\n",
       "      <td>17</td>\n",
       "      <td>2779</td>\n",
       "    </tr>\n",
       "    <tr>\n",
       "      <th>Fine no high winds</th>\n",
       "      <td>373539</td>\n",
       "      <td>103</td>\n",
       "      <td>9495</td>\n",
       "      <td>973</td>\n",
       "      <td>70411</td>\n",
       "    </tr>\n",
       "    <tr>\n",
       "      <th>Fog or mist</th>\n",
       "      <td>392</td>\n",
       "      <td>2</td>\n",
       "      <td>623</td>\n",
       "      <td>23</td>\n",
       "      <td>1923</td>\n",
       "    </tr>\n",
       "    <tr>\n",
       "      <th>Other</th>\n",
       "      <td>2363</td>\n",
       "      <td>17</td>\n",
       "      <td>4198</td>\n",
       "      <td>365</td>\n",
       "      <td>8241</td>\n",
       "    </tr>\n",
       "    <tr>\n",
       "      <th>Raining + high winds</th>\n",
       "      <td>60</td>\n",
       "      <td>246</td>\n",
       "      <td>46</td>\n",
       "      <td>16</td>\n",
       "      <td>7841</td>\n",
       "    </tr>\n",
       "    <tr>\n",
       "      <th>Raining no high winds</th>\n",
       "      <td>483</td>\n",
       "      <td>452</td>\n",
       "      <td>357</td>\n",
       "      <td>94</td>\n",
       "      <td>67994</td>\n",
       "    </tr>\n",
       "    <tr>\n",
       "      <th>Snowing + high winds</th>\n",
       "      <td>3</td>\n",
       "      <td>3</td>\n",
       "      <td>145</td>\n",
       "      <td>480</td>\n",
       "      <td>142</td>\n",
       "    </tr>\n",
       "    <tr>\n",
       "      <th>Snowing no high winds</th>\n",
       "      <td>44</td>\n",
       "      <td>5</td>\n",
       "      <td>1294</td>\n",
       "      <td>3322</td>\n",
       "      <td>972</td>\n",
       "    </tr>\n",
       "  </tbody>\n",
       "</table>\n",
       "</div>"
      ],
      "text/plain": [
       "Road_Surface_Conditions                     Dry  Flood over 3cm. deep  \\\n",
       "Accident_Severity Weather_Conditions                                    \n",
       "Fatal             Fine + high winds         103                     1   \n",
       "                  Fine no high winds       5653                     6   \n",
       "                  Fog or mist                18                     0   \n",
       "                  Other                      12                     0   \n",
       "                  Raining + high winds        0                     5   \n",
       "                  Raining no high winds       2                    11   \n",
       "                  Snowing + high winds        0                     0   \n",
       "                  Snowing no high winds       2                     0   \n",
       "Serious           Fine + high winds         758                     0   \n",
       "                  Fine no high winds      60541                    23   \n",
       "                  Fog or mist                63                     1   \n",
       "                  Other                     259                     2   \n",
       "                  Raining + high winds       12                    40   \n",
       "                  Raining no high winds      66                    85   \n",
       "                  Snowing + high winds        1                     0   \n",
       "                  Snowing no high winds       8                     1   \n",
       "Slight            Fine + high winds        4165                    14   \n",
       "                  Fine no high winds     373539                   103   \n",
       "                  Fog or mist               392                     2   \n",
       "                  Other                    2363                    17   \n",
       "                  Raining + high winds       60                   246   \n",
       "                  Raining no high winds     483                   452   \n",
       "                  Snowing + high winds        3                     3   \n",
       "                  Snowing no high winds      44                     5   \n",
       "\n",
       "Road_Surface_Conditions                  Frost or ice  Snow  Wet or damp  \n",
       "Accident_Severity Weather_Conditions                                      \n",
       "Fatal             Fine + high winds                 3     0           68  \n",
       "                  Fine no high winds              125    14         1409  \n",
       "                  Fog or mist                       8     0           56  \n",
       "                  Other                            43     1          109  \n",
       "                  Raining + high winds              1     0          139  \n",
       "                  Raining no high winds             5     1          829  \n",
       "                  Snowing + high winds              0     2            1  \n",
       "                  Snowing no high winds             8    17            9  \n",
       "Serious           Fine + high winds                21     2          464  \n",
       "                  Fine no high winds             1258   114        11349  \n",
       "                  Fog or mist                      78     4          337  \n",
       "                  Other                           477    47         1016  \n",
       "                  Raining + high winds              5     0         1204  \n",
       "                  Raining no high winds            42    11         9264  \n",
       "                  Snowing + high winds             17    67           24  \n",
       "                  Snowing no high winds           109   320          127  \n",
       "Slight            Fine + high winds               159    17         2779  \n",
       "                  Fine no high winds             9495   973        70411  \n",
       "                  Fog or mist                     623    23         1923  \n",
       "                  Other                          4198   365         8241  \n",
       "                  Raining + high winds             46    16         7841  \n",
       "                  Raining no high winds           357    94        67994  \n",
       "                  Snowing + high winds            145   480          142  \n",
       "                  Snowing no high winds          1294  3322          972  "
      ]
     },
     "execution_count": 33,
     "metadata": {},
     "output_type": "execute_result"
    }
   ],
   "source": [
    "severity_weather_road = accident.groupby(['Accident_Severity', 'Weather_Conditions', 'Road_Surface_Conditions'],observed=False).size()\n",
    "severity_weather_road.unstack()\n"
   ]
  },
  {
   "cell_type": "markdown",
   "id": "68a2200d-94b5-48fc-bbec-8e91051b16f0",
   "metadata": {},
   "source": [
    "<h3> <span style = color:green>Insight No.14</span> Snowing with no high winds showed a dramatic increase in slight accidents 1,294 cases on dry roads, 3,322 on wet roads</h3>"
   ]
  },
  {
   "cell_type": "markdown",
   "id": "cc4875ce-8c69-4fc3-91e6-d6fd8e090301",
   "metadata": {},
   "source": [
    "<h3> <span style = color:green>Insight No.15 </span>Raining with no high winds led to significantly more serious accidents 9,264 cases compared to raining with high winds 1,204 cases.</h3>"
   ]
  },
  {
   "cell_type": "markdown",
   "id": "09a21241-b842-4d79-a690-3a2a8fc65e2c",
   "metadata": {},
   "source": [
    "<h3> <span style = color:green>Insight No.16 </span>Frost or ice conditions led to more slight accidents 9,495 cases than serious or fatal ones, suggesting that while dangerous, drivers are likely to avoid severe collisions.</h3>"
   ]
  },
  {
   "cell_type": "markdown",
   "id": "cdef58d2-1ab2-40e6-8c66-634f1e8f1749",
   "metadata": {},
   "source": [
    "<h1><span style = color:red>Analysis No.15</span></h1>"
   ]
  },
  {
   "cell_type": "code",
   "execution_count": 34,
   "id": "02b93e69-c00b-4c46-98f2-519f3d7b9ce9",
   "metadata": {},
   "outputs": [
    {
     "data": {
      "text/html": [
       "<div>\n",
       "<style scoped>\n",
       "    .dataframe tbody tr th:only-of-type {\n",
       "        vertical-align: middle;\n",
       "    }\n",
       "\n",
       "    .dataframe tbody tr th {\n",
       "        vertical-align: top;\n",
       "    }\n",
       "\n",
       "    .dataframe thead th {\n",
       "        text-align: right;\n",
       "    }\n",
       "</style>\n",
       "<table border=\"1\" class=\"dataframe\">\n",
       "  <thead>\n",
       "    <tr style=\"text-align: right;\">\n",
       "      <th></th>\n",
       "      <th>Accident_Severity</th>\n",
       "      <th>Fatal</th>\n",
       "      <th>Serious</th>\n",
       "      <th>Slight</th>\n",
       "    </tr>\n",
       "    <tr>\n",
       "      <th>Light_Conditions</th>\n",
       "      <th>Urban_or_Rural_Area</th>\n",
       "      <th></th>\n",
       "      <th></th>\n",
       "      <th></th>\n",
       "    </tr>\n",
       "  </thead>\n",
       "  <tbody>\n",
       "    <tr>\n",
       "      <th rowspan=\"3\" valign=\"top\">Darkness - lighting unknown</th>\n",
       "      <th>Rural</th>\n",
       "      <td>41</td>\n",
       "      <td>344</td>\n",
       "      <td>2082</td>\n",
       "    </tr>\n",
       "    <tr>\n",
       "      <th>Unallocated</th>\n",
       "      <td>0</td>\n",
       "      <td>0</td>\n",
       "      <td>0</td>\n",
       "    </tr>\n",
       "    <tr>\n",
       "      <th>Urban</th>\n",
       "      <td>27</td>\n",
       "      <td>450</td>\n",
       "      <td>3540</td>\n",
       "    </tr>\n",
       "    <tr>\n",
       "      <th rowspan=\"3\" valign=\"top\">Darkness - lights lit</th>\n",
       "      <th>Rural</th>\n",
       "      <td>578</td>\n",
       "      <td>3827</td>\n",
       "      <td>20290</td>\n",
       "    </tr>\n",
       "    <tr>\n",
       "      <th>Unallocated</th>\n",
       "      <td>0</td>\n",
       "      <td>0</td>\n",
       "      <td>2</td>\n",
       "    </tr>\n",
       "    <tr>\n",
       "      <th>Urban</th>\n",
       "      <td>1282</td>\n",
       "      <td>15303</td>\n",
       "      <td>88053</td>\n",
       "    </tr>\n",
       "    <tr>\n",
       "      <th rowspan=\"3\" valign=\"top\">Darkness - lights unlit</th>\n",
       "      <th>Rural</th>\n",
       "      <td>29</td>\n",
       "      <td>150</td>\n",
       "      <td>782</td>\n",
       "    </tr>\n",
       "    <tr>\n",
       "      <th>Unallocated</th>\n",
       "      <td>0</td>\n",
       "      <td>0</td>\n",
       "      <td>0</td>\n",
       "    </tr>\n",
       "    <tr>\n",
       "      <th>Urban</th>\n",
       "      <td>16</td>\n",
       "      <td>210</td>\n",
       "      <td>1356</td>\n",
       "    </tr>\n",
       "    <tr>\n",
       "      <th rowspan=\"3\" valign=\"top\">Darkness - no lighting</th>\n",
       "      <th>Rural</th>\n",
       "      <td>1569</td>\n",
       "      <td>6861</td>\n",
       "      <td>27087</td>\n",
       "    </tr>\n",
       "    <tr>\n",
       "      <th>Unallocated</th>\n",
       "      <td>0</td>\n",
       "      <td>0</td>\n",
       "      <td>0</td>\n",
       "    </tr>\n",
       "    <tr>\n",
       "      <th>Urban</th>\n",
       "      <td>43</td>\n",
       "      <td>313</td>\n",
       "      <td>1564</td>\n",
       "    </tr>\n",
       "    <tr>\n",
       "      <th rowspan=\"3\" valign=\"top\">Daylight</th>\n",
       "      <th>Rural</th>\n",
       "      <td>3384</td>\n",
       "      <td>26130</td>\n",
       "      <td>145836</td>\n",
       "    </tr>\n",
       "    <tr>\n",
       "      <th>Unallocated</th>\n",
       "      <td>0</td>\n",
       "      <td>1</td>\n",
       "      <td>8</td>\n",
       "    </tr>\n",
       "    <tr>\n",
       "      <th>Urban</th>\n",
       "      <td>1692</td>\n",
       "      <td>34628</td>\n",
       "      <td>273201</td>\n",
       "    </tr>\n",
       "  </tbody>\n",
       "</table>\n",
       "</div>"
      ],
      "text/plain": [
       "Accident_Severity                                Fatal  Serious  Slight\n",
       "Light_Conditions            Urban_or_Rural_Area                        \n",
       "Darkness - lighting unknown Rural                   41      344    2082\n",
       "                            Unallocated              0        0       0\n",
       "                            Urban                   27      450    3540\n",
       "Darkness - lights lit       Rural                  578     3827   20290\n",
       "                            Unallocated              0        0       2\n",
       "                            Urban                 1282    15303   88053\n",
       "Darkness - lights unlit     Rural                   29      150     782\n",
       "                            Unallocated              0        0       0\n",
       "                            Urban                   16      210    1356\n",
       "Darkness - no lighting      Rural                 1569     6861   27087\n",
       "                            Unallocated              0        0       0\n",
       "                            Urban                   43      313    1564\n",
       "Daylight                    Rural                 3384    26130  145836\n",
       "                            Unallocated              0        1       8\n",
       "                            Urban                 1692    34628  273201"
      ]
     },
     "execution_count": 34,
     "metadata": {},
     "output_type": "execute_result"
    }
   ],
   "source": [
    "accident.groupby(['Light_Conditions', 'Urban_or_Rural_Area', 'Accident_Severity'],observed=False).size().unstack()"
   ]
  },
  {
   "cell_type": "markdown",
   "id": "334a3f3d-96dc-4b0a-ab4f-717bbb7d080d",
   "metadata": {},
   "source": [
    "<h3> <span style = color:green>Insight No.17 </span>Under \"Darkness - lights lit\" conditions, 88,053 slight, 15,303 serious, and 1,282 fatal accidents happened in urban areas. In rural areas, 20,290 slight, 3,827 serious, and 578 fatal accidents occurred. Despite lighting, a significant number of accidents happen, likely due to impaired driver vision and high-speed driving.</h3>"
   ]
  },
  {
   "cell_type": "markdown",
   "id": "bc5517e4-1c03-4d98-a62f-1560d257f730",
   "metadata": {},
   "source": [
    "<h3> <span style = color:green>Insight No.18 </span>Unlike slight accidents, which are highly concentrated in urban areas, serious accidents are more evenly distributed. Rural areas had 6,861 serious accidents under \"Darkness - no lighting,\" while urban areas had only 313 under the same condition. This indicates that crashes in rural areas tend to be more severe.</h3>"
   ]
  },
  {
   "cell_type": "markdown",
   "id": "9e1f580b-6d86-4a84-ac86-241ddc5b7d58",
   "metadata": {},
   "source": [
    "<h3> <span style = color:green>Insight No.19 </span>In daylight, urban areas had 273,201 slight accidents, but rural areas had only 145,836. However, the fatality count in rural areas (3,384) is almost double that in urban areas (1,692). This suggests that rural accidents are deadlier due to high-speed roadways and delayed medical response.</h3>"
   ]
  },
  {
   "cell_type": "markdown",
   "id": "82a6423c-eb99-404b-893c-b1589afc8ca4",
   "metadata": {},
   "source": [
    "<h3> <span style = color:green>Insight No.20 </span>In rural areas, 5.8% of accidents under \"Darkness - no lighting\" were fatal (1,569 out of 27,087 slight accidents). In urban areas, this rate is significantly lower (43 out of 1,564 slight accidents). This shows that rural areas are riskier in unlit conditions due to higher speeds and longer emergency response times.</h3>"
   ]
  },
  {
   "cell_type": "markdown",
   "id": "b4529f06-7fa9-45e0-ac9d-952135cee065",
   "metadata": {},
   "source": [
    "<h1><span style = color:red>Analysis No.16</span></h1>"
   ]
  },
  {
   "cell_type": "code",
   "execution_count": 71,
   "id": "6ce190d0-215e-42f3-a5af-84d320e5fe08",
   "metadata": {},
   "outputs": [
    {
     "data": {
      "text/plain": [
       "Light_Conditions\n",
       "Daylight                       53\n",
       "Darkness - lights lit          47\n",
       "Darkness - lights unlit         3\n",
       "Darkness - lighting unknown     2\n",
       "Darkness - no lighting          0\n",
       "Name: count, dtype: int64"
      ]
     },
     "execution_count": 71,
     "metadata": {},
     "output_type": "execute_result"
    }
   ],
   "source": [
    "df_province= accident[accident['Accident_Severity'] == 'Fatal']\n",
    "df_birmingham= df_province[df_province['District Area']=='Birmingham']\n",
    "\n",
    "df_birmingham['Light_Conditions'].value_counts()"
   ]
  },
  {
   "cell_type": "markdown",
   "id": "13a8f0ca-3df3-4852-8116-89db215e9e5f",
   "metadata": {},
   "source": [
    "<h3> <span style = color:green>Insight No.21 </span>The number of fatal accidents in Birmingham during daylight is 53, which accounts for 50.48% of all accidents that occur in daylight.</h3"
   ]
  },
  {
   "cell_type": "markdown",
   "id": "9a45e6d5-9f98-494e-9e2d-5937f010d062",
   "metadata": {},
   "source": [
    "<h1><span style = color:red>Analysis No.17</span></h1>"
   ]
  },
  {
   "cell_type": "code",
   "execution_count": 73,
   "id": "f2aeee42-52a0-4191-a125-253990dd2869",
   "metadata": {},
   "outputs": [
    {
     "data": {
      "text/plain": [
       "Weather_Conditions\n",
       "Fine no high winds       43\n",
       "Raining no high winds     5\n",
       "Other                     3\n",
       "Fine + high winds         1\n",
       "Fog or mist               1\n",
       "Raining + high winds      0\n",
       "Snowing + high winds      0\n",
       "Snowing no high winds     0\n",
       "Name: count, dtype: int64"
      ]
     },
     "execution_count": 73,
     "metadata": {},
     "output_type": "execute_result"
    }
   ],
   "source": [
    "df_daylight = df_birmingham[df_birmingham['Light_Conditions']=='Daylight']\n",
    "df_daylight['Weather_Conditions'].value_counts()"
   ]
  },
  {
   "cell_type": "markdown",
   "id": "c7c07148-b2ab-4f3e-a9da-5bf20cdeb32f",
   "metadata": {},
   "source": [
    "<h3> <span style = color:green>Insight No.22 </span>The number of accidents during daylight in the weather conditions of fine no high winds is 43, which accounts for 81.13% of all accidents that occur in daylight.</h3"
   ]
  },
  {
   "cell_type": "code",
   "execution_count": null,
   "id": "5b12cdbd-5991-4867-b9e8-07513c5a3588",
   "metadata": {},
   "outputs": [],
   "source": []
  }
 ],
 "metadata": {
  "kernelspec": {
   "display_name": "Python 3 (ipykernel)",
   "language": "python",
   "name": "python3"
  },
  "language_info": {
   "codemirror_mode": {
    "name": "ipython",
    "version": 3
   },
   "file_extension": ".py",
   "mimetype": "text/x-python",
   "name": "python",
   "nbconvert_exporter": "python",
   "pygments_lexer": "ipython3",
   "version": "3.11.3"
  }
 },
 "nbformat": 4,
 "nbformat_minor": 5
}
